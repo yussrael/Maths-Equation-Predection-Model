{
 "cells": [
  {
   "cell_type": "code",
   "execution_count": 1,
   "metadata": {},
   "outputs": [],
   "source": [
    "import tensorflow as tf\n",
    "import numpy as np\n",
    "import time\n",
    "import random"
   ]
  },
  {
   "cell_type": "code",
   "execution_count": 2,
   "metadata": {},
   "outputs": [
    {
     "name": "stdout",
     "output_type": "stream",
     "text": [
      "[ -65.   32.    3. -102.  143.  182.  335.  320.  214.   26.]\n"
     ]
    }
   ],
   "source": [
    "x = np.array([\n",
    " [random. randint(0,100),random. randint(0,100)], [random. randint(0,100),random. randint(0,100)],\n",
    " [random. randint(0,100),random. randint(0,100)], [random. randint(0,100),random. randint(0,100)], \n",
    " [random. randint(0,100),random. randint(0,100)], [random. randint(0,100),random. randint(0,100)], \n",
    " [random. randint(0,100),random. randint(0,100)], [random. randint(0,100),random. randint(0,100)], \n",
    " [random. randint(0,100),random. randint(0,100)], [random. randint(0,100),random. randint(0,100)]],  dtype=float)\n",
    "z= 5*x[:,0] - 3*x[:,1] + 7 #z=5x-3y+7\n",
    "print(z)"
   ]
  },
  {
   "cell_type": "code",
   "execution_count": null,
   "metadata": {},
   "outputs": [],
   "source": []
  },
  {
   "cell_type": "code",
   "execution_count": 5,
   "metadata": {},
   "outputs": [],
   "source": [
    "model = tf.keras.Sequential(\n",
    "    tf.keras.layers.Dense(units=1, input_shape=[2])\n",
    ")"
   ]
  },
  {
   "cell_type": "code",
   "execution_count": 6,
   "metadata": {},
   "outputs": [],
   "source": [
    "model.compile(\n",
    "        loss='mean_squared_error',\n",
    "        optimizer=tf.keras.optimizers.Adam(0.1)\n",
    "    )"
   ]
  },
  {
   "cell_type": "code",
   "execution_count": 41,
   "metadata": {},
   "outputs": [
    {
     "name": "stdout",
     "output_type": "stream",
     "text": [
      "Training took: 1.84 Sec\n"
     ]
    }
   ],
   "source": [
    "t = time.time()\n",
    "hist = model.fit(x, z, epochs=1000, verbose=0)\n",
    "print (str.format(\"Training took: {:0.2f} Sec\", time.time() - t))"
   ]
  },
  {
   "cell_type": "code",
   "execution_count": 42,
   "metadata": {},
   "outputs": [
    {
     "data": {
      "text/plain": [
       "[<matplotlib.lines.Line2D at 0x21cd4cf4940>]"
      ]
     },
     "execution_count": 42,
     "metadata": {},
     "output_type": "execute_result"
    },
    {
     "data": {
      "image/png": "[encoded data removed]",
      "text/plain": [
       "<Figure size 432x288 with 1 Axes>"
      ]
     },
     "metadata": {
      "needs_background": "light"
     },
     "output_type": "display_data"
    }
   ],
   "source": [
    "import matplotlib.pyplot as plt\n",
    "plt.xlabel('Epoch Number')\n",
    "plt.ylabel(\"Loss Magnitude\")\n",
    "plt.plot(hist.history['loss'][:])"
   ]
  },
  {
   "cell_type": "code",
   "execution_count": 36,
   "metadata": {},
   "outputs": [
    {
     "data": {
      "text/plain": [
       "[array([[ 5.],\n",
       "        [-3.]], dtype=float32),\n",
       " array([7.000002], dtype=float32)]"
      ]
     },
     "execution_count": 36,
     "metadata": {},
     "output_type": "execute_result"
    }
   ],
   "source": [
    "model.get_weights()"
   ]
  },
  {
   "cell_type": "code",
   "execution_count": 38,
   "metadata": {},
   "outputs": [
    {
     "name": "stdout",
     "output_type": "stream",
     "text": [
      "INFO:tensorflow:Assets written to: models/xyinz\\assets\n"
     ]
    }
   ],
   "source": [
    "model.save('models/xyinz')"
   ]
  },
  {
   "cell_type": "code",
   "execution_count": 44,
   "metadata": {},
   "outputs": [
    {
     "name": "stdout",
     "output_type": "stream",
     "text": [
      "1/1 [==============================] - 0s 44ms/step\n",
      "Model predection: 107.0\n",
      "Actual output: 107\n"
     ]
    }
   ],
   "source": [
    "ipt = [110,150]\n",
    "out = model.predict([ipt])\n",
    "print('Model predection:',out[0][0])\n",
    "print('Actual output:',5*110 - 3*150 + 7)"
   ]
  }
 ],
 "metadata": {
  "kernelspec": {
   "display_name": "Python 3.10.4 64-bit",
   "language": "python",
   "name": "python3"
  },
  "language_info": {
   "codemirror_mode": {
    "name": "ipython",
    "version": 3
   },
   "file_extension": ".py",
   "mimetype": "text/x-python",
   "name": "python",
   "nbconvert_exporter": "python",
   "pygments_lexer": "ipython3",
   "version": "3.10.4"
  },
  "orig_nbformat": 4,
  "vscode": {
   "interpreter": {
    "hash": "8c3d4d9970fc5c09c50d9318a9c7fbf4d0159e4b28833276f5678ee22bded273"
   }
  }
 },
 "nbformat": 4,
 "nbformat_minor": 2
}
